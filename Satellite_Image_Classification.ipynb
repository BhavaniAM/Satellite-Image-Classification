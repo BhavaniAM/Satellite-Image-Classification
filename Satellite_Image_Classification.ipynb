{
  "cells": [
    {
      "cell_type": "markdown",
      "metadata": {
        "id": "view-in-github",
        "colab_type": "text"
      },
      "source": [
        "<a href=\"https://colab.research.google.com/github/BhavaniAM/Satellite-Image-Classification/blob/main/Satellite_Image_Classification.ipynb\" target=\"_parent\"><img src=\"https://colab.research.google.com/assets/colab-badge.svg\" alt=\"Open In Colab\"/></a>"
      ]
    },
    {
      "cell_type": "markdown",
      "source": [
        "Satellite Image Classification\n",
        "---\n",
        "\n"
      ],
      "metadata": {
        "id": "00Ln58Y0l9aQ"
      }
    },
    {
      "cell_type": "code",
      "execution_count": null,
      "metadata": {
        "colab": {
          "base_uri": "https://localhost:8080/"
        },
        "id": "WtBmBYvV0uXz",
        "outputId": "0cae39b2-0ffb-4c6c-e7ac-5a319e7d70f0"
      },
      "outputs": [
        {
          "output_type": "stream",
          "name": "stdout",
          "text": [
            "Drive already mounted at /content/drive; to attempt to forcibly remount, call drive.mount(\"/content/drive\", force_remount=True).\n"
          ]
        }
      ],
      "source": [
        "#import the necessary libraries\n",
        "import numpy as np \n",
        "import pandas as pd \n",
        "import random\n",
        "import matplotlib.pyplot as plt\n",
        "from skimage.io import imshow\n",
        "from keras.layers import Dense\n",
        "from keras.layers import Conv2D\n",
        "from keras.layers import MaxPooling2D\n",
        "from keras.layers import Flatten\n",
        "from keras.layers import Dropout\n",
        "from keras.models import Sequential\n",
        "from google.colab import drive\n",
        "drive.mount('/content/drive')"
      ]
    },
    {
      "cell_type": "code",
      "execution_count": null,
      "metadata": {
        "id": "rfi1kaP10wcC"
      },
      "outputs": [],
      "source": [
        "# Reading the dataset\n",
        "# dataset used: https://www.kaggle.com/crawford/deepsat-sat4\n",
        "# has 4 classes and the total number of images = 1000000\n",
        "# values are in the .csv file \n",
        "# X contains the images and Y contains the labels corresponding to the images in the dataset\n",
        "X = pd.read_csv('/content/drive/MyDrive/NNDL_Project/X_test_sat4.csv') \n",
        "Y = pd.read_csv('/content/drive/MyDrive/NNDL_Project/y_test_sat4.csv')"
      ]
    },
    {
      "cell_type": "code",
      "source": [
        "# Shape of the training data \n",
        "print(\"Training dataset: \",X.shape)\n",
        "\n",
        "# converting the dataframe to numpy arrays\n",
        "X = np.array(X) \n",
        "Y = np.array(Y)"
      ],
      "metadata": {
        "colab": {
          "base_uri": "https://localhost:8080/"
        },
        "id": "bcb1icEhwGjJ",
        "outputId": "b8180e0f-45f4-4638-8024-a506a27aacd5"
      },
      "execution_count": null,
      "outputs": [
        {
          "output_type": "stream",
          "name": "stdout",
          "text": [
            "Training dataset:  (99999, 3136)\n"
          ]
        }
      ]
    },
    {
      "cell_type": "code",
      "execution_count": null,
      "metadata": {
        "colab": {
          "base_uri": "https://localhost:8080/"
        },
        "id": "CkWpBMWW01iA",
        "outputId": "234f60f4-e246-47f9-9bf8-7b976ef680be"
      },
      "outputs": [
        {
          "output_type": "stream",
          "name": "stdout",
          "text": [
            "Reshaped dataset:  (99999, 28, 28, 4)\n"
          ]
        }
      ],
      "source": [
        "# Reshaping (99999, 3136) to (99999, 28, 28, 4) \n",
        "# Has 4 channels (RGB and Alpha. Alpha indicates the transparency). The image size is now 28x28x4\n",
        "\n",
        "X = X.reshape([99999,28,28,4]).astype(float) \n",
        "print(\"Reshaped dataset: \",X.shape)"
      ]
    },
    {
      "cell_type": "code",
      "execution_count": null,
      "metadata": {
        "colab": {
          "base_uri": "https://localhost:8080/"
        },
        "id": "d00N6v5N037U",
        "outputId": "e57059e0-93fe-4428-f08b-770ded0701fb"
      },
      "outputs": [
        {
          "output_type": "stream",
          "name": "stdout",
          "text": [
            "X_train data shape:  (79999, 28, 28, 4)\n",
            "Y_train data shape:  (79999, 4)\n",
            "X_test data shape:  (20000, 28, 28, 4)\n",
            "Y_test data shape:  (20000, 4)\n"
          ]
        }
      ],
      "source": [
        "# Splitting the data into train and test datasets\n",
        "from sklearn.model_selection import train_test_split\n",
        "\n",
        "# Using 80% of the dataset as training dataset and 20% as the unseen test dataset\n",
        "# Initializing random_state = 0 makes sure that the train and the test datasets are the same each time the code is run\n",
        "# Otherwise the datasets will differ and the results will be unpredictable\n",
        "x_train, x_test, y_train, y_test = train_test_split(X, Y, test_size = 0.20, random_state = 0) \n",
        "\n",
        "# y_train and y_test are 1x4 one-hot encoded vectors that contain the labels\n",
        "\n",
        "# format of train and test data\n",
        "print(\"X_train data shape: \",x_train.shape)\n",
        "print(\"Y_train data shape: \",y_train.shape)\n",
        "print(\"X_test data shape: \",x_test.shape)\n",
        "print(\"Y_test data shape: \",y_test.shape)"
      ]
    },
    {
      "cell_type": "code",
      "source": [
        "# Normalize the pixel values in the train and test datasets to a value in (0,1)\n",
        "# This is to reduce the computation of high numeric values. Each pixel value represents a color code.\n",
        "x_train = x_train/255\n",
        "x_test = x_test/255"
      ],
      "metadata": {
        "id": "n6F22TGSwjco"
      },
      "execution_count": null,
      "outputs": []
    },
    {
      "cell_type": "code",
      "execution_count": null,
      "metadata": {
        "colab": {
          "base_uri": "https://localhost:8080/",
          "height": 332
        },
        "id": "JxqyVH5n0--i",
        "outputId": "51d507e5-c42f-416c-f393-35249fa442e7"
      },
      "outputs": [
        {
          "output_type": "stream",
          "name": "stdout",
          "text": [
            "Image number:  4954\n"
          ]
        },
        {
          "output_type": "display_data",
          "data": {
            "text/plain": [
              "<Figure size 432x288 with 1 Axes>"
            ],
            "image/png": "[encoded data removed]"
          },
          "metadata": {
            "needs_background": "light"
          }
        },
        {
          "output_type": "stream",
          "name": "stdout",
          "text": [
            "Ground Truth: Forest Land\n"
          ]
        }
      ],
      "source": [
        "# Images in the data with their label (reduced image size of 28x28x4)\n",
        "# There are now 80000 images in the training dataset\n",
        "# We pick a random image from the dataset in the range (0,79999)\n",
        "img_no = random.randint(0,79999) \n",
        "print(\"Image number: \", img_no)\n",
        "# On using the alpha channel the image has a low data range. \n",
        "# The image is not correctly displayed and has a rather stretched contrast\n",
        "# Display the image using the RGB format. We are showing only 3 channels here (RGB)\n",
        "imshow(np.squeeze(x_train[img_no,:,:,0:3]).astype(float)) \n",
        "plt.show()\n",
        "\n",
        "# y_train has the parameters as the image number and the class label\n",
        "# The ground truth (label) associated with a random image picked from the dataset is printed\n",
        "# y_train[img_no] == [1,0,0,0] Barren land\n",
        "# y_train[img_no] == [0,1,0,0] Forest land\n",
        "# y_train[img_no] == [0,0,1,0] Grassland\n",
        "# y_train[img_no] == [0,0,0,1] Other\n",
        "\n",
        "print ('Ground Truth: ',end='')\n",
        "if y_train[img_no, 0] == 1:\n",
        "    print ('Barren Land')\n",
        "elif y_train[img_no, 1] == 1:\n",
        "    print ('Forest Land')\n",
        "elif y_train[img_no, 2] == 1:\n",
        "    print ('Grassland')\n",
        "else:\n",
        "    print ('Other')"
      ]
    },
    {
      "cell_type": "code",
      "source": [
        "# defining the CNN layers\n",
        "from keras.layers.advanced_activations import LeakyReLU\n",
        "from keras import *\n",
        "num_classes = 4\n",
        "# linear stack of layers\n",
        "model = Sequential()\n",
        "# The output spatial volume is decreasing as our number of filters learned is increasing.\n",
        "# The number of filters are specified in increasing orders of powers of 2. This is based on the complexity of the network\n",
        "# padding = \"same\" ensures that the output and the input volume have the same dimensions\n",
        "\n",
        "# kernel_size = a 2-tuple specifying the width and height of the 2D convolution window. \n",
        "# if input image size < 128x128, use kernel size 3x3 (based on how much spatial volume you want to reduce)\n",
        "# stride is (1,1) (default)\n",
        "# LeakyReLU: allows a small gradient when the unit is not active\n",
        "\n",
        "model.add(Conv2D(32, kernel_size=(3, 3),input_shape=(28,28,4),padding='same'))\n",
        "model.add(LeakyReLU(alpha=0.1))\n",
        "model.add(MaxPooling2D((2, 2),padding='same'))\n",
        "\n",
        "model.add(Conv2D(64, (3, 3),padding='same'))\n",
        "model.add(LeakyReLU(alpha=0.1))\n",
        "model.add(MaxPooling2D(pool_size=(2, 2),padding='same'))\n",
        "\n",
        "model.add(Conv2D(128, (3, 3),padding='same'))\n",
        "model.add(LeakyReLU(alpha=0.1))                  \n",
        "model.add(MaxPooling2D(pool_size=(2, 2),padding='same'))\n",
        "\n",
        "# The last fully connected layer for classification\n",
        "model.add(Flatten()) # Converts the matrix to a vector\n",
        "model.add(Dense(128, activation='linear'))\n",
        "model.add(LeakyReLU(alpha=0.1))                  \n",
        "# Activation function used : Softmax. Introduces non-linearity\n",
        "# A neural network without an activation function is essentially just a linear regression model. \n",
        "model.add(Dense(num_classes, input_shape=(3136,), activation='softmax'))\n",
        "model.compile(optimizer='adam', loss='categorical_crossentropy', metrics=['accuracy'])\n",
        "\n",
        "#x.get_weights()[0][:,:,0,:]\n",
        "model.summary()\n",
        "\n",
        "# weights in conv2D (Param) = (num_filters * filter_size * filter_size * num_channels) + num_filters\n",
        "# weights in Dense = (num_neurons * num_inputs) + num_neurons   ((128*2048) + 128)"
      ],
      "metadata": {
        "colab": {
          "base_uri": "https://localhost:8080/"
        },
        "id": "bwZ74mfk0eh8",
        "outputId": "47c64d98-a50d-41c1-b89e-bebdcb342d37"
      },
      "execution_count": null,
      "outputs": [
        {
          "output_type": "stream",
          "name": "stdout",
          "text": [
            "Model: \"sequential\"\n",
            "_________________________________________________________________\n",
            " Layer (type)                Output Shape              Param #   \n",
            "=================================================================\n",
            " conv2d (Conv2D)             (None, 28, 28, 32)        1184      \n",
            "                                                                 \n",
            " leaky_re_lu (LeakyReLU)     (None, 28, 28, 32)        0         \n",
            "                                                                 \n",
            " max_pooling2d (MaxPooling2D  (None, 14, 14, 32)       0         \n",
            " )                                                               \n",
            "                                                                 \n",
            " conv2d_1 (Conv2D)           (None, 14, 14, 64)        18496     \n",
            "                                                                 \n",
            " leaky_re_lu_1 (LeakyReLU)   (None, 14, 14, 64)        0         \n",
            "                                                                 \n",
            " max_pooling2d_1 (MaxPooling  (None, 7, 7, 64)         0         \n",
            " 2D)                                                             \n",
            "                                                                 \n",
            " conv2d_2 (Conv2D)           (None, 7, 7, 128)         73856     \n",
            "                                                                 \n",
            " leaky_re_lu_2 (LeakyReLU)   (None, 7, 7, 128)         0         \n",
            "                                                                 \n",
            " max_pooling2d_2 (MaxPooling  (None, 4, 4, 128)        0         \n",
            " 2D)                                                             \n",
            "                                                                 \n",
            " flatten (Flatten)           (None, 2048)              0         \n",
            "                                                                 \n",
            " dense (Dense)               (None, 128)               262272    \n",
            "                                                                 \n",
            " leaky_re_lu_3 (LeakyReLU)   (None, 128)               0         \n",
            "                                                                 \n",
            " dense_1 (Dense)             (None, 4)                 516       \n",
            "                                                                 \n",
            "=================================================================\n",
            "Total params: 356,324\n",
            "Trainable params: 356,324\n",
            "Non-trainable params: 0\n",
            "_________________________________________________________________\n"
          ]
        }
      ]
    },
    {
      "cell_type": "code",
      "execution_count": null,
      "metadata": {
        "colab": {
          "base_uri": "https://localhost:8080/"
        },
        "id": "1Xsnbelgp9Y2",
        "outputId": "a75eb26c-440a-461c-a8c2-9dd3dc1d052a"
      },
      "outputs": [
        {
          "output_type": "stream",
          "name": "stdout",
          "text": [
            "Epoch 1/20\n",
            "1000/1000 [==============================] - 22s 13ms/step - loss: 0.2332 - accuracy: 0.9111 - val_loss: 0.0914 - val_accuracy: 0.9699\n",
            "Epoch 2/20\n",
            "1000/1000 [==============================] - 13s 13ms/step - loss: 0.1037 - accuracy: 0.9636 - val_loss: 0.1119 - val_accuracy: 0.9606\n",
            "Epoch 3/20\n",
            "1000/1000 [==============================] - 12s 12ms/step - loss: 0.0797 - accuracy: 0.9716 - val_loss: 0.0628 - val_accuracy: 0.9798\n",
            "Epoch 4/20\n",
            "1000/1000 [==============================] - 12s 12ms/step - loss: 0.0693 - accuracy: 0.9760 - val_loss: 0.0728 - val_accuracy: 0.9741\n",
            "Epoch 5/20\n",
            "1000/1000 [==============================] - 12s 12ms/step - loss: 0.0593 - accuracy: 0.9789 - val_loss: 0.0690 - val_accuracy: 0.9748\n",
            "Epoch 6/20\n",
            "1000/1000 [==============================] - 12s 12ms/step - loss: 0.0532 - accuracy: 0.9809 - val_loss: 0.0600 - val_accuracy: 0.9805\n",
            "Epoch 7/20\n",
            "1000/1000 [==============================] - 12s 12ms/step - loss: 0.0522 - accuracy: 0.9824 - val_loss: 0.0699 - val_accuracy: 0.9764\n",
            "Epoch 8/20\n",
            "1000/1000 [==============================] - 12s 12ms/step - loss: 0.0482 - accuracy: 0.9833 - val_loss: 0.0484 - val_accuracy: 0.9845\n",
            "Epoch 9/20\n",
            "1000/1000 [==============================] - 12s 12ms/step - loss: 0.0411 - accuracy: 0.9858 - val_loss: 0.0481 - val_accuracy: 0.9833\n",
            "Epoch 10/20\n",
            "1000/1000 [==============================] - 12s 12ms/step - loss: 0.0390 - accuracy: 0.9863 - val_loss: 0.0635 - val_accuracy: 0.9789\n",
            "Epoch 11/20\n",
            "1000/1000 [==============================] - 12s 12ms/step - loss: 0.0356 - accuracy: 0.9873 - val_loss: 0.0621 - val_accuracy: 0.9783\n",
            "Epoch 12/20\n",
            "1000/1000 [==============================] - 12s 12ms/step - loss: 0.0364 - accuracy: 0.9871 - val_loss: 0.0392 - val_accuracy: 0.9882\n",
            "Epoch 13/20\n",
            "1000/1000 [==============================] - 12s 12ms/step - loss: 0.0339 - accuracy: 0.9881 - val_loss: 0.0462 - val_accuracy: 0.9847\n",
            "Epoch 14/20\n",
            "1000/1000 [==============================] - 12s 12ms/step - loss: 0.0327 - accuracy: 0.9887 - val_loss: 0.0390 - val_accuracy: 0.9877\n",
            "Epoch 15/20\n",
            "1000/1000 [==============================] - 12s 12ms/step - loss: 0.0255 - accuracy: 0.9909 - val_loss: 0.0379 - val_accuracy: 0.9887\n",
            "Epoch 16/20\n",
            "1000/1000 [==============================] - 12s 12ms/step - loss: 0.0259 - accuracy: 0.9912 - val_loss: 0.0388 - val_accuracy: 0.9879\n",
            "Epoch 17/20\n",
            "1000/1000 [==============================] - 12s 12ms/step - loss: 0.0288 - accuracy: 0.9902 - val_loss: 0.0360 - val_accuracy: 0.9892\n",
            "Epoch 18/20\n",
            "1000/1000 [==============================] - 12s 12ms/step - loss: 0.0222 - accuracy: 0.9921 - val_loss: 0.0470 - val_accuracy: 0.9868\n",
            "Epoch 19/20\n",
            "1000/1000 [==============================] - 12s 12ms/step - loss: 0.0223 - accuracy: 0.9919 - val_loss: 0.0385 - val_accuracy: 0.9893\n",
            "Epoch 20/20\n",
            "1000/1000 [==============================] - 12s 12ms/step - loss: 0.0220 - accuracy: 0.9923 - val_loss: 0.0386 - val_accuracy: 0.9905\n"
          ]
        }
      ],
      "source": [
        "#fitting the data into the model\n",
        "model_pred = model.fit(x_train,y_train,batch_size=64, epochs=20, verbose=1, validation_split=0.20)"
      ]
    },
    {
      "cell_type": "code",
      "execution_count": null,
      "metadata": {
        "colab": {
          "base_uri": "https://localhost:8080/",
          "height": 384
        },
        "id": "kh1GSvng09ts",
        "outputId": "41100f6e-04eb-4cfc-b965-84c8d92a8b6f"
      },
      "outputs": [
        {
          "output_type": "stream",
          "name": "stdout",
          "text": [
            "Image number:  327\n"
          ]
        },
        {
          "output_type": "display_data",
          "data": {
            "text/plain": [
              "<Figure size 432x288 with 1 Axes>"
            ],
            "image/png": "[encoded data removed]"
          },
          "metadata": {
            "needs_background": "light"
          }
        },
        {
          "output_type": "stream",
          "name": "stdout",
          "text": [
            "625/625 [==============================] - 2s 3ms/step\n",
            "(20000, 4)\n",
            "Predicted Label: Barren Land\n",
            "Actual label: Barren Land\n"
          ]
        }
      ],
      "source": [
        "# Picking an image from the test dataset. The test dataset has 20000 images\n",
        "img_no = random.randint(0,19999)\n",
        "print(\"Image number: \",img_no)\n",
        "imshow(np.squeeze(x_test[img_no,:,:,0:3]).astype(float)) \n",
        "plt.show()\n",
        "\n",
        "# Predicted classification\n",
        "preds = model.predict(x_test, verbose=1)\n",
        "print(preds.shape)\n",
        "print ('Predicted Label: ',end='')\n",
        "if preds[img_no, 0]*100  >= 80:\n",
        "    print ('Barren Land')\n",
        "elif preds[img_no, 1]*100 >= 80:\n",
        "    print ('Forest Land')\n",
        "elif preds[img_no, 2]*100 >= 80:\n",
        "    print ('Grassland')\n",
        "else:\n",
        "    print ('Other')\n",
        "\n",
        "# Actual classification\n",
        "print ('Actual label: ',end='')\n",
        "if y_test[img_no, 0] == 1:\n",
        "    print ('Barren Land')\n",
        "elif y_test[img_no, 1] == 1:\n",
        "    print ('Forest Land')\n",
        "elif y_test[img_no, 2] == 1:\n",
        "    print ('Grassland')\n",
        "else:\n",
        "    print ('Other')"
      ]
    },
    {
      "cell_type": "code",
      "source": [
        "# model performance evaluation\n",
        "\n",
        "from sklearn.metrics import accuracy_score, confusion_matrix, classification_report\n",
        "print(\"Accuracy score: \",accuracy_score(y_test, np.round_(preds)))\n",
        "print(\"Classification report:\")\n",
        "print(classification_report(y_test, np.round_(preds)))\n",
        "print(\"Accuracy of CNN model is: \", accuracy_score(y_test,np.round_(preds))*100)\n",
        "\n",
        "# Precision = TP/(TP+FP) (Out of all the positive predicted, what percentage is truly positive)\n",
        "# Recall = TP/(TP+FN)    (Out of the total positive, what percentage are predicted positive)\n",
        "# F1 score = 2PR/(P+R)   (Harmonic mean of Precision and Recall)\n",
        "# Support                (the number of actual occurrences of the class in the specified dataset)"
      ],
      "metadata": {
        "colab": {
          "base_uri": "https://localhost:8080/"
        },
        "id": "OkvlA3pf04cH",
        "outputId": "195dcdad-6c97-40b5-b3d7-dfbf28278afc"
      },
      "execution_count": null,
      "outputs": [
        {
          "output_type": "stream",
          "name": "stdout",
          "text": [
            "Accuracy score:  0.9894\n",
            "Classification report:\n",
            "              precision    recall  f1-score   support\n",
            "\n",
            "           0       0.99      0.98      0.98      5223\n",
            "           1       1.00      1.00      1.00      4121\n",
            "           2       0.97      0.98      0.98      3596\n",
            "           3       1.00      1.00      1.00      7060\n",
            "\n",
            "   micro avg       0.99      0.99      0.99     20000\n",
            "   macro avg       0.99      0.99      0.99     20000\n",
            "weighted avg       0.99      0.99      0.99     20000\n",
            " samples avg       0.99      0.99      0.99     20000\n",
            "\n",
            "Accuracy of CNN model is:  98.94\n"
          ]
        },
        {
          "output_type": "stream",
          "name": "stderr",
          "text": [
            "/usr/local/lib/python3.7/dist-packages/sklearn/metrics/_classification.py:1318: UndefinedMetricWarning: Precision and F-score are ill-defined and being set to 0.0 in samples with no predicted labels. Use `zero_division` parameter to control this behavior.\n",
            "  _warn_prf(average, modifier, msg_start, len(result))\n"
          ]
        }
      ]
    },
    {
      "cell_type": "code",
      "source": [
        "# Overfitting: Train loss decreases but the validation loss increases\n",
        "\n",
        "train_loss = model_pred.history['loss']\n",
        "val_loss = model_pred.history['val_loss']\n",
        "epochs = range(1,21)\n",
        "plt.plot(epochs, train_loss, 'g', label='Training loss')\n",
        "plt.plot(epochs, val_loss, 'b', label='validation loss')\n",
        "plt.title('Training and Validation loss')\n",
        "plt.xlabel('Epochs')\n",
        "plt.ylabel('Loss')\n",
        "plt.legend()\n",
        "plt.show()"
      ],
      "metadata": {
        "colab": {
          "base_uri": "https://localhost:8080/",
          "height": 295
        },
        "id": "-yvUg_2m0BaD",
        "outputId": "168ca240-09ab-4505-f239-0f99a1fbb230"
      },
      "execution_count": null,
      "outputs": [
        {
          "output_type": "display_data",
          "data": {
            "text/plain": [
              "<Figure size 432x288 with 1 Axes>"
            ],
            "image/png": "[encoded data removed]"
          },
          "metadata": {
            "needs_background": "light"
          }
        }
      ]
    },
    {
      "cell_type": "code",
      "source": [
        "# Overfitting: training accuracy is much higher than the validation accuracy\n",
        "\n",
        "acc_train = model_pred.history['accuracy']\n",
        "acc_val = model_pred.history['val_accuracy']\n",
        "epochs = range(1,21)\n",
        "plt.plot(epochs, acc_train, 'g', label='Training accuracy')\n",
        "plt.plot(epochs, acc_val, 'b', label='validation accurcy')\n",
        "plt.title('Training and Validation accuracy')\n",
        "plt.xlabel('Epochs')\n",
        "plt.ylabel('Loss')\n",
        "plt.legend()\n",
        "plt.show()"
      ],
      "metadata": {
        "colab": {
          "base_uri": "https://localhost:8080/",
          "height": 295
        },
        "id": "269Qq_b50TZk",
        "outputId": "98d47ad5-1131-457a-b479-ed1576f5ad72"
      },
      "execution_count": null,
      "outputs": [
        {
          "output_type": "display_data",
          "data": {
            "text/plain": [
              "<Figure size 432x288 with 1 Axes>"
            ],
            "image/png": "[encoded data removed]"
          },
          "metadata": {
            "needs_background": "light"
          }
        }
      ]
    }
  ],
  "metadata": {
    "accelerator": "GPU",
    "colab": {
      "collapsed_sections": [],
      "name": "Neural_Networks_Project_Final.ipynb",
      "provenance": [],
      "include_colab_link": true
    },
    "kernelspec": {
      "display_name": "Python 3",
      "name": "python3"
    },
    "language_info": {
      "name": "python"
    }
  },
  "nbformat": 4,
  "nbformat_minor": 0
}